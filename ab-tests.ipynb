{
 "cells": [
  {
   "cell_type": "markdown",
   "metadata": {},
   "source": [
    "## Analyze A/B Test Results\n",
    "\n",
    "\n",
    "## Table of Contents\n",
    "- [Introduction](#intro)\n",
    "- [Part I - Probability](#probability)\n",
    "- [Part II - A/B Test](#ab_test)\n",
    "- [Part III - Regression](#regression)\n",
    "\n",
    "<a id='intro'></a>\n",
    "### Introduction\n",
    "\n",
    "This report is one of the project assignments in Udacity's Data Analyst Nanodegree. For this analysis, the goal is to help the company understand if they should implement the new page, keep the old page, or perhaps run the experiment longer to make their decision.\n",
    "\n",
    "<a id='probability'></a>\n",
    "#### Part I - Probability\n"
   ]
  },
  {
   "cell_type": "code",
   "execution_count": 1,
   "metadata": {},
   "outputs": [],
   "source": [
    "import pandas as pd\n",
    "import numpy as np\n",
    "import random\n",
    "import matplotlib.pyplot as plt\n",
    "%matplotlib inline\n",
    "#We are setting the seed to assure you get the same answers on quizzes as we set up\n",
    "random.seed(42)"
   ]
  },
  {
   "cell_type": "markdown",
   "metadata": {},
   "source": [
    "`1.` Now, read in the `ab_data.csv` data. Store it in `df`.\n",
    "\n",
    "a. Read in the dataset and take a look at the top few rows:"
   ]
  },
  {
   "cell_type": "code",
   "execution_count": 2,
   "metadata": {},
   "outputs": [],
   "source": [
    "df = pd.read_csv('ab-data.csv')"
   ]
  },
  {
   "cell_type": "code",
   "execution_count": 3,
   "metadata": {},
   "outputs": [
    {
     "data": {
      "text/html": [
       "<div>\n",
       "<style scoped>\n",
       "    .dataframe tbody tr th:only-of-type {\n",
       "        vertical-align: middle;\n",
       "    }\n",
       "\n",
       "    .dataframe tbody tr th {\n",
       "        vertical-align: top;\n",
       "    }\n",
       "\n",
       "    .dataframe thead th {\n",
       "        text-align: right;\n",
       "    }\n",
       "</style>\n",
       "<table border=\"1\" class=\"dataframe\">\n",
       "  <thead>\n",
       "    <tr style=\"text-align: right;\">\n",
       "      <th></th>\n",
       "      <th>user_id</th>\n",
       "      <th>timestamp</th>\n",
       "      <th>group</th>\n",
       "      <th>landing_page</th>\n",
       "      <th>converted</th>\n",
       "    </tr>\n",
       "  </thead>\n",
       "  <tbody>\n",
       "    <tr>\n",
       "      <th>0</th>\n",
       "      <td>851104</td>\n",
       "      <td>2017-01-21 22:11:48.556739</td>\n",
       "      <td>control</td>\n",
       "      <td>old_page</td>\n",
       "      <td>0</td>\n",
       "    </tr>\n",
       "    <tr>\n",
       "      <th>1</th>\n",
       "      <td>804228</td>\n",
       "      <td>2017-01-12 08:01:45.159739</td>\n",
       "      <td>control</td>\n",
       "      <td>old_page</td>\n",
       "      <td>0</td>\n",
       "    </tr>\n",
       "    <tr>\n",
       "      <th>2</th>\n",
       "      <td>661590</td>\n",
       "      <td>2017-01-11 16:55:06.154213</td>\n",
       "      <td>treatment</td>\n",
       "      <td>new_page</td>\n",
       "      <td>0</td>\n",
       "    </tr>\n",
       "    <tr>\n",
       "      <th>3</th>\n",
       "      <td>853541</td>\n",
       "      <td>2017-01-08 18:28:03.143765</td>\n",
       "      <td>treatment</td>\n",
       "      <td>new_page</td>\n",
       "      <td>0</td>\n",
       "    </tr>\n",
       "    <tr>\n",
       "      <th>4</th>\n",
       "      <td>864975</td>\n",
       "      <td>2017-01-21 01:52:26.210827</td>\n",
       "      <td>control</td>\n",
       "      <td>old_page</td>\n",
       "      <td>1</td>\n",
       "    </tr>\n",
       "  </tbody>\n",
       "</table>\n",
       "</div>"
      ],
      "text/plain": [
       "   user_id                   timestamp      group landing_page  converted\n",
       "0   851104  2017-01-21 22:11:48.556739    control     old_page          0\n",
       "1   804228  2017-01-12 08:01:45.159739    control     old_page          0\n",
       "2   661590  2017-01-11 16:55:06.154213  treatment     new_page          0\n",
       "3   853541  2017-01-08 18:28:03.143765  treatment     new_page          0\n",
       "4   864975  2017-01-21 01:52:26.210827    control     old_page          1"
      ]
     },
     "execution_count": 3,
     "metadata": {},
     "output_type": "execute_result"
    }
   ],
   "source": [
    "df.head()"
   ]
  },
  {
   "cell_type": "markdown",
   "metadata": {},
   "source": [
    "b. Find the number of rows in the dataset"
   ]
  },
  {
   "cell_type": "code",
   "execution_count": 4,
   "metadata": {},
   "outputs": [
    {
     "data": {
      "text/plain": [
       "294478"
      ]
     },
     "execution_count": 4,
     "metadata": {},
     "output_type": "execute_result"
    }
   ],
   "source": [
    "df.shape[0]"
   ]
  },
  {
   "cell_type": "markdown",
   "metadata": {},
   "source": [
    "c. The number of unique users in the dataset"
   ]
  },
  {
   "cell_type": "code",
   "execution_count": 5,
   "metadata": {},
   "outputs": [
    {
     "data": {
      "text/plain": [
       "user_id         290584\n",
       "timestamp       294478\n",
       "group                2\n",
       "landing_page         2\n",
       "converted            2\n",
       "dtype: int64"
      ]
     },
     "execution_count": 5,
     "metadata": {},
     "output_type": "execute_result"
    }
   ],
   "source": [
    "df.nunique()"
   ]
  },
  {
   "cell_type": "markdown",
   "metadata": {},
   "source": [
    "d. The proportion of users converted"
   ]
  },
  {
   "cell_type": "code",
   "execution_count": 6,
   "metadata": {},
   "outputs": [
    {
     "data": {
      "text/plain": [
       "0.11965919355605512"
      ]
     },
     "execution_count": 6,
     "metadata": {},
     "output_type": "execute_result"
    }
   ],
   "source": [
    "df['converted'].mean()"
   ]
  },
  {
   "cell_type": "markdown",
   "metadata": {},
   "source": [
    "e. The number of times the new_page and treatment don't line up"
   ]
  },
  {
   "cell_type": "code",
   "execution_count": 7,
   "metadata": {},
   "outputs": [
    {
     "data": {
      "text/plain": [
       "user_id         3893\n",
       "timestamp       3893\n",
       "group           3893\n",
       "landing_page    3893\n",
       "converted       3893\n",
       "dtype: int64"
      ]
     },
     "execution_count": 7,
     "metadata": {},
     "output_type": "execute_result"
    }
   ],
   "source": [
    "df.query('(group==\"control\" and landing_page==\"new_page\") or (group==\"treatment\" and landing_page==\"old_page\")').count()"
   ]
  },
  {
   "cell_type": "markdown",
   "metadata": {},
   "source": [
    "f. Do any of the rows have missing values?"
   ]
  },
  {
   "cell_type": "code",
   "execution_count": 8,
   "metadata": {},
   "outputs": [
    {
     "data": {
      "text/plain": [
       "user_id         False\n",
       "timestamp       False\n",
       "group           False\n",
       "landing_page    False\n",
       "converted       False\n",
       "dtype: bool"
      ]
     },
     "execution_count": 8,
     "metadata": {},
     "output_type": "execute_result"
    }
   ],
   "source": [
    "df.isnull().any()"
   ]
  },
  {
   "cell_type": "markdown",
   "metadata": {},
   "source": [
    "`2.` For the rows where **treatment** is not aligned with **new_page** or **control** is not aligned with **old_page**, we cannot be sure if this row truly received the new or old page.\n",
    "\n",
    "a. Create a new dataset that meets the specifications, and store the new dataframe in df2."
   ]
  },
  {
   "cell_type": "code",
   "execution_count": 9,
   "metadata": {},
   "outputs": [],
   "source": [
    "df2 = df.query('(group==\"control\" and landing_page==\"old_page\") or (group==\"treatment\" and landing_page==\"new_page\")')"
   ]
  },
  {
   "cell_type": "code",
   "execution_count": 10,
   "metadata": {},
   "outputs": [
    {
     "data": {
      "text/plain": [
       "0"
      ]
     },
     "execution_count": 10,
     "metadata": {},
     "output_type": "execute_result"
    }
   ],
   "source": [
    "# Double Check all of the correct rows were removed - this should be 0\n",
    "df2[((df2['group'] == 'treatment') == (df2['landing_page'] == 'new_page')) == False].shape[0]"
   ]
  },
  {
   "cell_type": "markdown",
   "metadata": {},
   "source": [
    "`3.` Characteristics of **df2**\n",
    "\n",
    "a. The number of unique **user_id**s in **df2**"
   ]
  },
  {
   "cell_type": "code",
   "execution_count": 11,
   "metadata": {},
   "outputs": [
    {
     "data": {
      "text/plain": [
       "user_id         290584\n",
       "timestamp       290585\n",
       "group                2\n",
       "landing_page         2\n",
       "converted            2\n",
       "dtype: int64"
      ]
     },
     "execution_count": 11,
     "metadata": {},
     "output_type": "execute_result"
    }
   ],
   "source": [
    "df2.nunique()"
   ]
  },
  {
   "cell_type": "markdown",
   "metadata": {},
   "source": [
    "b. Duplicated **user_id** in **df2**."
   ]
  },
  {
   "cell_type": "code",
   "execution_count": 12,
   "metadata": {},
   "outputs": [
    {
     "data": {
      "text/plain": [
       "2893    773192\n",
       "Name: user_id, dtype: int64"
      ]
     },
     "execution_count": 12,
     "metadata": {},
     "output_type": "execute_result"
    }
   ],
   "source": [
    "df2[df2['user_id'].duplicated()]['user_id']"
   ]
  },
  {
   "cell_type": "markdown",
   "metadata": {},
   "source": [
    "c. The row information for the duplicated **user_id**? "
   ]
  },
  {
   "cell_type": "code",
   "execution_count": 13,
   "metadata": {},
   "outputs": [
    {
     "data": {
      "text/html": [
       "<div>\n",
       "<style scoped>\n",
       "    .dataframe tbody tr th:only-of-type {\n",
       "        vertical-align: middle;\n",
       "    }\n",
       "\n",
       "    .dataframe tbody tr th {\n",
       "        vertical-align: top;\n",
       "    }\n",
       "\n",
       "    .dataframe thead th {\n",
       "        text-align: right;\n",
       "    }\n",
       "</style>\n",
       "<table border=\"1\" class=\"dataframe\">\n",
       "  <thead>\n",
       "    <tr style=\"text-align: right;\">\n",
       "      <th></th>\n",
       "      <th>user_id</th>\n",
       "      <th>timestamp</th>\n",
       "      <th>group</th>\n",
       "      <th>landing_page</th>\n",
       "      <th>converted</th>\n",
       "    </tr>\n",
       "  </thead>\n",
       "  <tbody>\n",
       "    <tr>\n",
       "      <th>2893</th>\n",
       "      <td>773192</td>\n",
       "      <td>2017-01-14 02:55:59.590927</td>\n",
       "      <td>treatment</td>\n",
       "      <td>new_page</td>\n",
       "      <td>0</td>\n",
       "    </tr>\n",
       "  </tbody>\n",
       "</table>\n",
       "</div>"
      ],
      "text/plain": [
       "      user_id                   timestamp      group landing_page  converted\n",
       "2893   773192  2017-01-14 02:55:59.590927  treatment     new_page          0"
      ]
     },
     "execution_count": 13,
     "metadata": {},
     "output_type": "execute_result"
    }
   ],
   "source": [
    "df2[df2['user_id'].duplicated()]"
   ]
  },
  {
   "cell_type": "markdown",
   "metadata": {},
   "source": [
    "d. Remove the rows with a duplicate user_id"
   ]
  },
  {
   "cell_type": "code",
   "execution_count": 14,
   "metadata": {},
   "outputs": [
    {
     "name": "stderr",
     "output_type": "stream",
     "text": [
      "C:\\Users\\MaiRZ\\Anaconda3\\lib\\site-packages\\pandas\\core\\base.py:1241: SettingWithCopyWarning: \n",
      "A value is trying to be set on a copy of a slice from a DataFrame\n",
      "\n",
      "See the caveats in the documentation: http://pandas.pydata.org/pandas-docs/stable/indexing.html#indexing-view-versus-copy\n",
      "  return self._update_inplace(result)\n"
     ]
    }
   ],
   "source": [
    "df2['user_id'].drop_duplicates(inplace = True)"
   ]
  },
  {
   "cell_type": "code",
   "execution_count": 15,
   "metadata": {},
   "outputs": [
    {
     "data": {
      "text/plain": [
       "False"
      ]
     },
     "execution_count": 15,
     "metadata": {},
     "output_type": "execute_result"
    }
   ],
   "source": [
    "df2['user_id'].duplicated().any()"
   ]
  },
  {
   "cell_type": "markdown",
   "metadata": {},
   "source": [
    "`4.` Some exploratory analysis using **df2**\n",
    "\n",
    "a. The probability of an individual converting regardless of the page they receive"
   ]
  },
  {
   "cell_type": "code",
   "execution_count": 16,
   "metadata": {},
   "outputs": [
    {
     "data": {
      "text/plain": [
       "0.11959667567149027"
      ]
     },
     "execution_count": 16,
     "metadata": {},
     "output_type": "execute_result"
    }
   ],
   "source": [
    "df2['converted'].mean()"
   ]
  },
  {
   "cell_type": "markdown",
   "metadata": {},
   "source": [
    "b. Given that an individual was in the `control` group, the probability they converted"
   ]
  },
  {
   "cell_type": "code",
   "execution_count": 17,
   "metadata": {},
   "outputs": [
    {
     "data": {
      "text/plain": [
       "0.1203863045004612"
      ]
     },
     "execution_count": 17,
     "metadata": {},
     "output_type": "execute_result"
    }
   ],
   "source": [
    "df2.query('group==\"control\"')['converted'].mean()"
   ]
  },
  {
   "cell_type": "markdown",
   "metadata": {},
   "source": [
    "c. Given that an individual was in the `treatment` group, the probability they converted"
   ]
  },
  {
   "cell_type": "code",
   "execution_count": 18,
   "metadata": {},
   "outputs": [
    {
     "data": {
      "text/plain": [
       "0.11880724790277405"
      ]
     },
     "execution_count": 18,
     "metadata": {},
     "output_type": "execute_result"
    }
   ],
   "source": [
    "df2.query('group==\"treatment\"')['converted'].mean()"
   ]
  },
  {
   "cell_type": "markdown",
   "metadata": {},
   "source": [
    "d. The probability that an individual received the new page"
   ]
  },
  {
   "cell_type": "code",
   "execution_count": 19,
   "metadata": {},
   "outputs": [
    {
     "data": {
      "text/plain": [
       "0.5"
      ]
     },
     "execution_count": 19,
     "metadata": {},
     "output_type": "execute_result"
    }
   ],
   "source": [
    "(df['landing_page']=='new_page').mean()"
   ]
  },
  {
   "cell_type": "markdown",
   "metadata": {},
   "source": [
    "> Considering the results from a. through d. above, since the probability that an individual receives a new page is the same as the one that an individual receives an old page, and the conversion rate is also similar, there is hardly sufficient evidence to say that the new treatment page leads to more conversions."
   ]
  },
  {
   "cell_type": "markdown",
   "metadata": {},
   "source": [
    "<a id='ab_test'></a>\n",
    "### Part II - A/B Test"
   ]
  },
  {
   "cell_type": "markdown",
   "metadata": {},
   "source": [
    "`1.` Here, we want to assume that the old page is better unless the new page proves to be definitely better at a Type I error rate of 5%, so the null and alternative hypotheses would be:"
   ]
  },
  {
   "cell_type": "markdown",
   "metadata": {
    "collapsed": true
   },
   "source": [
    "> Null：**$p_{old}$** <= **$p_{new}$**；Alternative：**$p_{new}$** > **$p_{old}$**"
   ]
  },
  {
   "cell_type": "markdown",
   "metadata": {},
   "source": [
    "`2.` Assume under the null hypothesis, $p_{new}$ and $p_{old}$ both have \"true\" success rates equal to the **converted** success rate regardless of page - that is $p_{new}$ and $p_{old}$ are equal. Furthermore, assume they are equal to the **converted** rate in **ab_data.csv** regardless of the page. <br><br>\n",
    "\n",
    "a. The **convert rate** for $p_{new}$ under the null？"
   ]
  },
  {
   "cell_type": "code",
   "execution_count": 20,
   "metadata": {},
   "outputs": [
    {
     "data": {
      "text/plain": [
       "0.11959667567149027"
      ]
     },
     "execution_count": 20,
     "metadata": {},
     "output_type": "execute_result"
    }
   ],
   "source": [
    "convert_rate = df2['converted'].mean()\n",
    "convert_rate"
   ]
  },
  {
   "cell_type": "markdown",
   "metadata": {},
   "source": [
    "b. The **convert rate** for $p_{old}$ under the null?"
   ]
  },
  {
   "cell_type": "code",
   "execution_count": 21,
   "metadata": {},
   "outputs": [
    {
     "data": {
      "text/plain": [
       "0.11959667567149027"
      ]
     },
     "execution_count": 21,
     "metadata": {},
     "output_type": "execute_result"
    }
   ],
   "source": [
    "convert_rate = df2['converted'].mean()\n",
    "convert_rate"
   ]
  },
  {
   "cell_type": "markdown",
   "metadata": {},
   "source": [
    "c.  $n_{new}$"
   ]
  },
  {
   "cell_type": "code",
   "execution_count": 22,
   "metadata": {},
   "outputs": [
    {
     "data": {
      "text/plain": [
       "145311"
      ]
     },
     "execution_count": 22,
     "metadata": {},
     "output_type": "execute_result"
    }
   ],
   "source": [
    "n_new = df2.query('landing_page==\"new_page\"').count()[0]\n",
    "n_new"
   ]
  },
  {
   "cell_type": "markdown",
   "metadata": {},
   "source": [
    "d.  $n_{old}$"
   ]
  },
  {
   "cell_type": "code",
   "execution_count": 23,
   "metadata": {},
   "outputs": [
    {
     "data": {
      "text/plain": [
       "145274"
      ]
     },
     "execution_count": 23,
     "metadata": {},
     "output_type": "execute_result"
    }
   ],
   "source": [
    "n_old = df2.query('landing_page==\"old_page\"').count()[0]\n",
    "n_old"
   ]
  },
  {
   "cell_type": "markdown",
   "metadata": {},
   "source": [
    "e. Simulate $n_{new}$ transactions with a convert rate of $p_{new}$ under the null."
   ]
  },
  {
   "cell_type": "code",
   "execution_count": 24,
   "metadata": {},
   "outputs": [
    {
     "data": {
      "text/plain": [
       "array([1, 0, 0, ..., 0, 0, 0], dtype=int64)"
      ]
     },
     "execution_count": 24,
     "metadata": {},
     "output_type": "execute_result"
    }
   ],
   "source": [
    "new_page_converted = np.random.choice(2, size=n_new, p = [1-convert_rate, convert_rate])\n",
    "new_page_converted"
   ]
  },
  {
   "cell_type": "markdown",
   "metadata": {},
   "source": [
    "f. Simulate $n_{old}$ transactions with a convert rate of $p_{old}$ under the null."
   ]
  },
  {
   "cell_type": "code",
   "execution_count": 25,
   "metadata": {},
   "outputs": [
    {
     "data": {
      "text/plain": [
       "array([0, 0, 1, ..., 0, 0, 0], dtype=int64)"
      ]
     },
     "execution_count": 25,
     "metadata": {},
     "output_type": "execute_result"
    }
   ],
   "source": [
    "old_page_converted = np.random.choice(2, size=n_old, p = [1-convert_rate, convert_rate])\n",
    "old_page_converted"
   ]
  },
  {
   "cell_type": "markdown",
   "metadata": {},
   "source": [
    "g. $p_{new}$ - $p_{old}$ for the simulated values from part (e) and (f)"
   ]
  },
  {
   "cell_type": "code",
   "execution_count": 26,
   "metadata": {},
   "outputs": [
    {
     "data": {
      "text/plain": [
       "-0.0018200928194625349"
      ]
     },
     "execution_count": 26,
     "metadata": {},
     "output_type": "execute_result"
    }
   ],
   "source": [
    "diff = new_page_converted.mean() - old_page_converted.mean()\n",
    "diff"
   ]
  },
  {
   "cell_type": "markdown",
   "metadata": {},
   "source": [
    "h. Simulate 10,000 $p_{new}$ - $p_{old}$ values using the same process similarly to the one in parts **a. through g.** above."
   ]
  },
  {
   "cell_type": "code",
   "execution_count": 27,
   "metadata": {},
   "outputs": [
    {
     "data": {
      "text/plain": [
       "[-0.0013794443322969613,\n",
       " 0.00023813947804789126,\n",
       " 0.0017107815065953713,\n",
       " 0.00042383216741803675,\n",
       " -0.0004573123192915113,\n",
       " 3.8383488692561585e-05,\n",
       " -0.002618517342785315,\n",
       " -0.0005810040343926237,\n",
       " -0.0012626869906022797,\n",
       " 0.0015112183176810845,\n",
       " 0.0006920888270908199,\n",
       " 1.0679296961219054e-05,\n",
       " 0.0005130237831526968,\n",
       " -0.001248749887269418,\n",
       " -0.0049379159334779765,\n",
       " 0.00014143158212108486,\n",
       " -0.0006913335420214717,\n",
       " 0.00014838874103417776,\n",
       " -0.0016342301151579947,\n",
       " -7.172166933215596e-05,\n",
       " -0.0015928692570989639,\n",
       " 0.0006852561120987838,\n",
       " 0.0006854681925839434,\n",
       " 0.00033435135102181934,\n",
       " 0.001174133226941071,\n",
       " -0.0021364957284417535,\n",
       " -0.001572111707893023,\n",
       " 0.0011054029488256345,\n",
       " -0.002411907605662539,\n",
       " -0.0006225752202055346,\n",
       " 0.002034464077043663,\n",
       " 0.0005823289571287443,\n",
       " -0.00045039897866047673,\n",
       " 0.0015456202640957428,\n",
       " 0.0009950541611526698,\n",
       " -0.0002575598353987407,\n",
       " 0.0015663234786319202,\n",
       " -0.0004090503897204306,\n",
       " -0.0014619189133042026,\n",
       " 0.0009124411143741351,\n",
       " -0.0015927307913276567,\n",
       " -0.0002370441631097675,\n",
       " 0.0006921712054610979,\n",
       " 0.001036173142294733,\n",
       " 0.0007474148321832408,\n",
       " -0.0007945463921905371,\n",
       " -0.0017442301093057583,\n",
       " -4.4175223416237364e-05,\n",
       " -0.00018882429908946563,\n",
       " -0.0008287520327015657,\n",
       " 0.0008988352772536373,\n",
       " 9.365165365264605e-05,\n",
       " 0.0005888251477145778,\n",
       " -0.0009317808460859722,\n",
       " -0.00128304141161327,\n",
       " 0.0003550528128267033,\n",
       " 5.2127791584366534e-05,\n",
       " -0.0005534137701946468,\n",
       " -0.0015650791815347842,\n",
       " 0.0004513873769903948,\n",
       " -0.0006155041337590761,\n",
       " 0.0005341739441658694,\n",
       " 0.0002174800817937722,\n",
       " -0.0009665543715324937,\n",
       " -0.002198517735486183,\n",
       " 0.001015569833441643,\n",
       " 0.0001486919635460271,\n",
       " -0.00040187413939704597,\n",
       " 0.00214444303841603,\n",
       " 0.0004236060650826129,\n",
       " 0.0006509663404862115,\n",
       " -0.000181644543303508,\n",
       " -0.0002437419177930833,\n",
       " 0.0001691445375088252,\n",
       " 0.0005821011020620409,\n",
       " -0.0001752202147002474,\n",
       " 0.0002723013002768615,\n",
       " -0.001179735666686249,\n",
       " 3.827306662176899e-05,\n",
       " 0.0006783199859610733,\n",
       " -2.968605710057526e-06,\n",
       " -0.0010632184491772417,\n",
       " 0.002378259191585977,\n",
       " -0.00028526753259264237,\n",
       " 4.549839342106454e-05,\n",
       " 0.0004304247582244125,\n",
       " 0.0010089369298157819,\n",
       " -0.0016755716931729087,\n",
       " 0.00033441269661670103,\n",
       " -0.0020265921345145183,\n",
       " -0.001675277234317471,\n",
       " 0.0031494036841477474,\n",
       " 0.00038281835015292753,\n",
       " -0.0015724640068807832,\n",
       " -0.0014273381882987518,\n",
       " -0.00026478691492931583,\n",
       " 0.0009675708135629124,\n",
       " 0.0008298876604592026,\n",
       " -0.00037456080674166947,\n",
       " -0.0008080996473725649,\n",
       " 0.0008846054677966175,\n",
       " 0.002054983254795195,\n",
       " -0.00024397503105363927,\n",
       " 0.00252988821167896,\n",
       " 0.0018689873429132003,\n",
       " -0.0002920774620780303,\n",
       " -0.0010215999396197134,\n",
       " -0.0014758332311303884,\n",
       " -0.0009043062621526404,\n",
       " -0.00011312459294195165,\n",
       " -0.0009184151331511625,\n",
       " 0.00018301854251552563,\n",
       " 0.002405945856004482,\n",
       " 0.0003547969140594853,\n",
       " -7.179353131472888e-05,\n",
       " 0.0014150432520641104,\n",
       " 0.0004375834812349877,\n",
       " -0.0009940394718535306,\n",
       " 0.001717829807535154,\n",
       " 0.0016145380844583834,\n",
       " 0.0012565674951287992,\n",
       " 0.0025916946327756707,\n",
       " 0.00023819205998637516,\n",
       " 0.00012830599337194937,\n",
       " -0.0024600941677884874,\n",
       " 0.0006441914656264702,\n",
       " -0.001200729834615305,\n",
       " 0.0001485517450434265,\n",
       " -0.001303602654915581,\n",
       " 0.0010160150271873725,\n",
       " 0.0002102792932324321,\n",
       " -0.001881939553378717,\n",
       " 1.0616198635057805e-05,\n",
       " -0.00035394172330703577,\n",
       " -0.0009251146405657579,\n",
       " -0.0015787796661445308,\n",
       " 0.002577790831337176,\n",
       " 0.0010843439298391239,\n",
       " -0.0003951746319824506,\n",
       " -0.0004915845635912602,\n",
       " 0.0004856315775896153,\n",
       " -9.650585811829537e-06,\n",
       " 0.00016930929424936736,\n",
       " -0.0016272361488879616,\n",
       " 0.0007816572800511817,\n",
       " 0.0004856718904091145,\n",
       " -0.0019024306874297348,\n",
       " -0.00022996431300689735,\n",
       " -0.0005054340303600191,\n",
       " 0.000740513760671177,\n",
       " -0.0011934817223093336,\n",
       " 0.0004304019727177366,\n",
       " -0.00028554621686653625,\n",
       " -0.0002644801869549074,\n",
       " 0.0018415092535172817,\n",
       " -0.0012624976956237821,\n",
       " 0.0013875055698046035,\n",
       " 0.0006166397615166991,\n",
       " 0.001036278306171673,\n",
       " -0.0013518032388917939,\n",
       " 8.66506764574948e-05,\n",
       " 0.0006990827933608529,\n",
       " -0.0017031496882519148,\n",
       " -0.0017031619573708856,\n",
       " 0.0003688181484939046,\n",
       " 0.0006991283643741908,\n",
       " 0.0006854646871213843,\n",
       " -0.00012669888089936188,\n",
       " -0.0011797794849683074,\n",
       " -0.00026461164180108243,\n",
       " -0.0015859278727674009,\n",
       " 0.001236009757289061,\n",
       " -0.00014761943411456535,\n",
       " 0.0006920625361215987,\n",
       " 0.0018623053628114283,\n",
       " -0.0006705163999519426,\n",
       " 0.001387668573813866,\n",
       " 0.000643951341440796,\n",
       " 0.002082468355116232,\n",
       " 0.0003552613878493177,\n",
       " -0.0017442283565744787,\n",
       " 1.1122737975655106e-05,\n",
       " -0.0013590671257792952,\n",
       " -0.0002026632494705055,\n",
       " 0.0011944683679079443,\n",
       " 0.001070767889150434,\n",
       " -0.0005948254574608541,\n",
       " 0.0003070012110095166,\n",
       " 0.0003415503868518799,\n",
       " -0.0009460036446178738,\n",
       " -0.0015722817228274177,\n",
       " -0.0009872593387999506,\n",
       " -0.0004641835943717809,\n",
       " -0.00020954153547590726,\n",
       " 0.0011465797701000063,\n",
       " 0.001607395136029352,\n",
       " 0.0004787830880160354,\n",
       " -0.0016409699353920754,\n",
       " -0.0016823553316890477,\n",
       " 0.0005546405399789456,\n",
       " -0.0018474114103117362,\n",
       " -0.0016752123832600163,\n",
       " -0.00018188291475791651,\n",
       " -0.0015789882411671452,\n",
       " 0.00010023723353388969,\n",
       " 0.0001624643101383466,\n",
       " -0.000560621569681119,\n",
       " -0.0008492536831402747,\n",
       " 0.0010708274820140362,\n",
       " -0.0013864978914305826,\n",
       " 0.0012358502587423714,\n",
       " -0.0019779936805372073,\n",
       " 0.001483603515245152,\n",
       " -0.0006154953701026644,\n",
       " -0.001166108796790355,\n",
       " -0.002067765450326331,\n",
       " -0.0002231999545348612,\n",
       " 0.0006232411159794726,\n",
       " -0.0011731237958357704,\n",
       " 0.000554687863723563,\n",
       " -0.0011797952595498373,\n",
       " -0.0015035286592053193,\n",
       " -0.0018544088820443283,\n",
       " 0.0003340533867038087,\n",
       " 0.0011258029408499765,\n",
       " 0.0006785671210718797,\n",
       " 0.0005338076233278588,\n",
       " 0.0025920749754639455,\n",
       " -0.00036799275417324917,\n",
       " 0.0006921571836108475,\n",
       " 0.001126011515872577,\n",
       " -0.0010355387956838547,\n",
       " -0.0017236162840649771,\n",
       " -0.0006845832053996997,\n",
       " 0.0008232109385512693,\n",
       " -0.0006841467753103819,\n",
       " -0.000869923595782085,\n",
       " 0.00032061405905513263,\n",
       " 0.002068799419669573,\n",
       " -0.001083504513668232,\n",
       " 0.00042390402940062355,\n",
       " 0.001235923873456224,\n",
       " -3.745293049496612e-05,\n",
       " -0.0010078486258027763,\n",
       " -0.0015101352718619315,\n",
       " 0.0002723065584707002,\n",
       " -0.0016203981757020591,\n",
       " 0.0005957910702840824,\n",
       " -0.0003539872943203737,\n",
       " 0.0005063996431832474,\n",
       " 7.25540745779435e-05,\n",
       " -0.0016548877586808342,\n",
       " 0.001201455323252859,\n",
       " 0.000864075773657394,\n",
       " 0.0007337476494678474,\n",
       " -0.0013656351783477155,\n",
       " -0.000760112896612819,\n",
       " 0.0009057503706159653,\n",
       " -0.0007046151238547377,\n",
       " -0.001035303929692033,\n",
       " -0.001152436355881123,\n",
       " -0.00036781923377629533,\n",
       " 0.00024501951678457257,\n",
       " -0.0017306365413042452,\n",
       " 0.0010774884293404119,\n",
       " -0.0023638735311581616,\n",
       " 0.0008504138491358532,\n",
       " 0.00150451530480393,\n",
       " 0.0017453376933628667,\n",
       " -0.0004982490163802089,\n",
       " 0.00010016361882002334,\n",
       " 0.0017243733218656049,\n",
       " -0.000766626614511462,\n",
       " -0.0006290959490293235,\n",
       " -0.0010556758780158465,\n",
       " -0.0007117685886714603,\n",
       " 0.00036867617726002444,\n",
       " 0.0011464851226107575,\n",
       " -0.0008080225271961533,\n",
       " -0.0011180449258541836,\n",
       " 0.0005958629322666553,\n",
       " 0.0008848105373566451,\n",
       " -0.0003129384224296178,\n",
       " 0.0003617575784351512,\n",
       " -0.00017515886910535183,\n",
       " 0.0005546983801112682,\n",
       " 0.0005407314803465985,\n",
       " -0.0002920546765713544,\n",
       " 0.0007681180467194182,\n",
       " 0.0014630370137489884,\n",
       " -0.00042265096864708973,\n",
       " 0.0010913782089286561,\n",
       " 0.000850794191824128,\n",
       " -9.250726223859751e-05,\n",
       " 0.0003825501822667249,\n",
       " 0.0006577937972844089,\n",
       " -0.0013518768536056464,\n",
       " 6.599829112849398e-05,\n",
       " 0.000988047925763666,\n",
       " 0.0010363747063922013,\n",
       " 0.0018415916318875458,\n",
       " -0.00028516937964083444,\n",
       " -0.0013931132677436203,\n",
       " 0.0018416529774824275,\n",
       " 0.0010087721730752397,\n",
       " 0.0006231324466399735,\n",
       " -0.0001887349097940555,\n",
       " -0.0021778443173818135,\n",
       " -0.0007874945857881954,\n",
       " 0.00014864113433883663,\n",
       " -0.0009732293407091197,\n",
       " 0.00028615953070201816,\n",
       " -0.00027144260406185283,\n",
       " 0.0007407083138435133,\n",
       " 0.001001641493765193,\n",
       " 0.0016007972870291376,\n",
       " -0.002528805165859807,\n",
       " 0.000912611129308516,\n",
       " -0.00038135145618294064,\n",
       " 0.0012635351704295972,\n",
       " 0.0008161643903427662,\n",
       " -0.0008355269075612931,\n",
       " 0.0013184159817762886,\n",
       " 4.519341817793565e-05,\n",
       " -0.001124695356792868,\n",
       " -0.003815910498121272,\n",
       " 0.0007130234021562876,\n",
       " -0.0005950287742896021,\n",
       " -0.00016798086605068763,\n",
       " 0.0007747614667329705,\n",
       " -0.00017516763276177738,\n",
       " -0.0005189732636917826,\n",
       " 0.0015317970882962328,\n",
       " 0.0007196037238436787,\n",
       " 0.0002997338186594284,\n",
       " -0.001881939553378717,\n",
       " -0.0003610618862293913,\n",
       " 0.0005753928309910339,\n",
       " -8.552907055012215e-05,\n",
       " 0.0015869145183660394,\n",
       " -0.0028181558991447475,\n",
       " 0.0002175326637322561,\n",
       " -0.001166138593222149,\n",
       " -0.0008151532065062,\n",
       " 0.0011603994404369572,\n",
       " -2.3920708088334686e-05,\n",
       " 0.0005956666263630395,\n",
       " -0.0005261600304028724,\n",
       " -0.0022193699321813726,\n",
       " -0.00024383130708847955,\n",
       " 0.0005681236859096661,\n",
       " 9.339750761669374e-05,\n",
       " 0.0001827381055103522,\n",
       " -0.000381365478033191,\n",
       " 0.0011053556250810032,\n",
       " 0.0006923149294262437,\n",
       " -0.0018131707151750748,\n",
       " -0.0012900160978392,\n",
       " 0.0005407157057650547,\n",
       " 0.00026556323277406035,\n",
       " -0.0003746326687242424,\n",
       " 0.0005131937980870777,\n",
       " -0.0008147465728486902,\n",
       " 3.855345625580764e-06,\n",
       " 0.00022421464383401424,\n",
       " 0.0011327408197189665,\n",
       " 0.0007749560199053207,\n",
       " -0.003100158614440615,\n",
       " -0.0013109121128164342,\n",
       " -0.00015430842514146947,\n",
       " -0.0004294644035950368,\n",
       " -0.0012004511503414111,\n",
       " -0.00191642212543236,\n",
       " -0.0011247304114185008,\n",
       " -0.001503658361320201,\n",
       " -0.00027843657033187197,\n",
       " 7.288884625286651e-05,\n",
       " 0.0005135513552686904,\n",
       " -0.0020814974840991513,\n",
       " -0.0002715092078505871,\n",
       " -0.00018201436960409156,\n",
       " 0.002054788701622845,\n",
       " 0.0014631544467449131,\n",
       " 0.0008090722711209253,\n",
       " -0.0006428367464585555,\n",
       " -0.0012143321662732298,\n",
       " 0.00016225924057831909,\n",
       " -0.00016090802687296346,\n",
       " -0.0027419216099561217,\n",
       " 0.0013117602926437655,\n",
       " -0.0014275467633213523,\n",
       " 0.0009744701323436827,\n",
       " 0.001800365734137277,\n",
       " -0.001510080937192182,\n",
       " 0.0005616450226366698,\n",
       " 0.0002657104622017792,\n",
       " 0.00041675231731519435,\n",
       " 0.0007404752005829573,\n",
       " -0.0010075857161104262,\n",
       " 0.001222340821842402,\n",
       " -0.000787526134951283,\n",
       " -0.0009528363596099237,\n",
       " -0.0010146392752440475,\n",
       " 0.0009814535822260245,\n",
       " 0.0012773600989604006,\n",
       " -0.0014411140403536304,\n",
       " -0.00041613900347969857,\n",
       " -0.0013795074306231225,\n",
       " 7.29396754600431e-05,\n",
       " 0.0006440968181372214,\n",
       " -5.83506982034937e-05,\n",
       " -0.0019502158740920122,\n",
       " -0.00031964143530677225,\n",
       " 0.0014976843425431735,\n",
       " 0.001979464079969781,\n",
       " -0.0008563282750492923,\n",
       " 0.0018485855981575788,\n",
       " 0.000651039955200064,\n",
       " 0.0007750909802140549,\n",
       " 0.002295910807231072,\n",
       " -0.0010631851472828746,\n",
       " -0.0007805146413684266,\n",
       " -0.00030584630320777684,\n",
       " 0.0011463676896148467,\n",
       " 0.0003895178575675229,\n",
       " 0.00025156303111502354,\n",
       " -7.146577056492409e-05,\n",
       " -0.00047776489325432325,\n",
       " 0.0029496792439555053,\n",
       " 0.00043054219122032333,\n",
       " -0.0017922764529291202,\n",
       " 0.0007817449166153123,\n",
       " -0.0005327911812974401,\n",
       " -0.0010834536844610276,\n",
       " -0.0012418137611317076,\n",
       " 0.0010227741274655422,\n",
       " 0.00027900781861658897,\n",
       " 0.0008574183317935774,\n",
       " 3.166995942771589e-05,\n",
       " -0.00018178651453737427,\n",
       " -0.0017716345839878106,\n",
       " 0.0012152609717395318,\n",
       " 0.0013805536690853493,\n",
       " -0.00038143909274705734,\n",
       " 0.00016214356031367394,\n",
       " 0.0013190452123066493,\n",
       " 0.0008849875632161719,\n",
       " 0.0015179160723644003,\n",
       " -2.6443504228257364e-06,\n",
       " -0.00045731407202279084,\n",
       " 0.0012845994476099465,\n",
       " -0.0008907302214639368,\n",
       " 0.0010913378961091569,\n",
       " -0.001881578490734545,\n",
       " 0.0003341743251622925,\n",
       " 0.0009952907798757987,\n",
       " -9.901396921213612e-05,\n",
       " 0.0013803398358688962,\n",
       " 0.001022826709404026,\n",
       " -0.0018749087797517577,\n",
       " 0.0002585499864599383,\n",
       " -0.0010422768631866697,\n",
       " -0.0029146008853792177,\n",
       " -0.001413841020517767,\n",
       " 2.4505978223302027e-05,\n",
       " -0.0005603130889754032,\n",
       " 0.001194789117732617,\n",
       " 0.0009328656446364048,\n",
       " 0.00023132429036867852,\n",
       " -0.00045033763306559504,\n",
       " 0.0027982973589733146,\n",
       " -0.0032173979572379385,\n",
       " 0.0013739155072656495,\n",
       " 0.000788225332619602,\n",
       " -0.0013245582627564173,\n",
       " -0.0001542891450973527,\n",
       " 0.0003413838773800443,\n",
       " 0.0012566060552170188,\n",
       " -0.000718715231196862,\n",
       " 0.0020895920235011467,\n",
       " 0.0004581955537444754,\n",
       " -0.0018749543507650956,\n",
       " -0.001586141705983854,\n",
       " 0.001132889801877951,\n",
       " 0.0002036534005317031,\n",
       " -7.8482522341633e-05,\n",
       " -0.0020399858911498425,\n",
       " -0.002680528833442053,\n",
       " -0.0005468036520754477,\n",
       " -0.002033260092766012,\n",
       " 0.0006439268032028406,\n",
       " -0.0008494727745505665,\n",
       " -0.0009872172732491857,\n",
       " -0.0014344653621462256,\n",
       " -0.0002438067688505241,\n",
       " -0.00020936976781023298,\n",
       " -9.925764623150424e-06,\n",
       " 0.0006924043187216539,\n",
       " -0.001634300224409288,\n",
       " -0.00017473470813503256,\n",
       " 0.00021728903408399503,\n",
       " -0.0004918632478651541,\n",
       " 0.0016901519067730464,\n",
       " 0.00017597374703831603,\n",
       " 0.0006031022809162151,\n",
       " 0.00043770266696219196,\n",
       " 0.00013464093267979982,\n",
       " 0.0010022882516083909,\n",
       " 0.0002379063647873353,\n",
       " 0.0011328459835959065,\n",
       " 0.0019172860798412072,\n",
       " 0.0009951575722983302,\n",
       " 0.001022511217773192,\n",
       " 0.0014356237754105383,\n",
       " 0.0004650107414237159,\n",
       " -0.000299017093678286,\n",
       " -0.0015721450097873901,\n",
       " 0.0020208231852975184,\n",
       " 0.0023715368986647056,\n",
       " -0.0010011648929697387,\n",
       " 0.0004030343053926244,\n",
       " 0.0024334695164137388,\n",
       " -0.00011985389678835501,\n",
       " 0.0004239162985196082,\n",
       " 0.0033900770905476857,\n",
       " 0.0010087055692865055,\n",
       " -0.0015309524139314745,\n",
       " 0.000685243842979813,\n",
       " -0.0015171572818324791,\n",
       " 0.001118912385725604,\n",
       " -0.0025219373962421104,\n",
       " 0.0006921186235226418,\n",
       " -0.00029914329033062237,\n",
       " 5.905865952822442e-05,\n",
       " -0.0007391730633535126,\n",
       " -0.0010351970130837995,\n",
       " -0.0020815413023812096,\n",
       " -0.00042257034300809126,\n",
       " -0.0013106001266481732,\n",
       " -0.0006432241000719624,\n",
       " -0.00140709594208982,\n",
       " -0.0005401321883613808,\n",
       " -0.0003470020917067662,\n",
       " 0.0021170175309585954,\n",
       " -0.0011868120113265462,\n",
       " 0.0005271081159132773,\n",
       " 0.0016282893982753205,\n",
       " -0.0010282819197214715,\n",
       " -0.0009319333337075436,\n",
       " 0.002137505159547054,\n",
       " -0.0009937239802227105,\n",
       " 0.000871322133232072,\n",
       " -0.0011936587481688465,\n",
       " 0.0012493316519418124,\n",
       " -0.0008011337248030603,\n",
       " -0.0003059707471288198,\n",
       " 0.0005889022678910033,\n",
       " 0.0010639824979030155,\n",
       " -0.0014691705310727193,\n",
       " 0.0016007709960599165,\n",
       " 0.0020067335943430853,\n",
       " -0.0001749502940827652,\n",
       " 0.00045107363809084033,\n",
       " -0.0003265512704752338,\n",
       " 0.001655835844191239,\n",
       " 0.0006163102480356286,\n",
       " -0.0006842992629319672,\n",
       " -0.0009871015929845406,\n",
       " 0.0008987055751387418,\n",
       " 0.0002517120132740358,\n",
       " -0.000890714446882393,\n",
       " 0.0007955295323266026,\n",
       " 0.0006851667228033875,\n",
       " 0.0007268010069424596,\n",
       " -0.0002921230330913682,\n",
       " -0.002019712095777851,\n",
       " 0.0002997951642543101,\n",
       " -0.00018179878365634505,\n",
       " -0.001172850369755729,\n",
       " 0.000513211325399901,\n",
       " 0.0003689566142651979,\n",
       " -0.0009185623625788952,\n",
       " -0.0014689882470193677,\n",
       " -0.002439094741665593,\n",
       " -0.0006218811386177192,\n",
       " 0.0016493326426802735,\n",
       " 0.00016917959213448575,\n",
       " 0.002571173702292845,\n",
       " -0.0007942922461546126,\n",
       " -4.414542698442936e-05,\n",
       " 0.001291039550794737,\n",
       " -0.0005191204931195015,\n",
       " -0.0006087169897803779,\n",
       " 0.0006165521249525963,\n",
       " -0.0015100108279408886,\n",
       " 0.0005545756889215048,\n",
       " 0.0013601869789553744,\n",
       " -0.0027075231690040363,\n",
       " 0.0022959914328700426,\n",
       " -0.0008700568033595535,\n",
       " 0.00047885494999859446,\n",
       " 0.00021710675003062951,\n",
       " -0.001358751634148475,\n",
       " -0.0006361600245506499,\n",
       " -0.0018198491898142738,\n",
       " -0.0017719851302442774,\n",
       " -0.0008979888501575994,\n",
       " -0.0012760194016427223,\n",
       " 0.0018416039010065305,\n",
       " 3.874805679929261e-05,\n",
       " 0.003066455865694276,\n",
       " -0.0012420521325861161,\n",
       " 0.0006992107427444688,\n",
       " -9.257737148990475e-05,\n",
       " -0.001978016466043883,\n",
       " 0.0004926500820975899,\n",
       " 0.0007886161916955681,\n",
       " -0.00014760365953302157,\n",
       " -0.000890714446882393,\n",
       " -0.0016616170625272236,\n",
       " -0.0013038462845638282,\n",
       " 0.0004925431654893703,\n",
       " -0.0007189500971886975,\n",
       " -0.001076642002244374,\n",
       " -0.0016203350773758979,\n",
       " 0.0012083090710202776,\n",
       " 2.460763663768295e-05,\n",
       " 0.0006303647843644011,\n",
       " -0.0008768246672941488,\n",
       " 0.0005888496859525333,\n",
       " -0.0009868001232039708,\n",
       " -0.0011662420043678234,\n",
       " -0.0011041095752526014,\n",
       " 0.0009744000230923894,\n",
       " -0.00028495554642438137,\n",
       " -0.0011728100569362299,\n",
       " 0.0010433616617371022,\n",
       " -0.0021160203689722795,\n",
       " 0.0011945840481725895,\n",
       " 0.0005133848457968687,\n",
       " -0.00042978164795713647,\n",
       " -0.0010213107389581283,\n",
       " -0.00046408719415123867,\n",
       " -0.001744550859130431,\n",
       " 0.0008297491946878816,\n",
       " -6.488369614626732e-05,\n",
       " 0.0006716923405290509,\n",
       " -0.0008012196086358975,\n",
       " 0.0004855825011137044,\n",
       " 0.0022819281328848584,\n",
       " 0.0004100983809139508,\n",
       " 0.0005199844475283627,\n",
       " 0.0037823619897277977,\n",
       " 0.001077882793878937,\n",
       " 0.001173933415574882,\n",
       " 0.0024885553973204716,\n",
       " -0.00040908369161479774,\n",
       " 0.0010984387789874095,\n",
       " -0.0005740661555236337,\n",
       " -0.0018751699367128422,\n",
       " -0.001186820774982944,\n",
       " -0.0005810338308244317,\n",
       " -0.0005192344206528532,\n",
       " 3.822574287713765e-05,\n",
       " -0.0017646861887311294,\n",
       " -0.0014343742201195497,\n",
       " -0.0008358266246105694,\n",
       " -0.00016816315010405314,\n",
       " 0.0006163067425730556,\n",
       " -0.0031000604614887933,\n",
       " 0.0023577102174026365,\n",
       " -8.547999407421125e-05,\n",
       " -0.0009943514580217916,\n",
       " -0.0001543119306040286,\n",
       " -0.0008770630387485434,\n",
       " 0.0011465219299676838,\n",
       " -0.00160658726902152,\n",
       " 0.0010774901820717053,\n",
       " -0.0008564404498513506,\n",
       " 0.0013668093661935443,\n",
       " -0.0003812164958741926,\n",
       " 0.000678437418956998,\n",
       " -0.0024875109115895105,\n",
       " -0.0012967103470599428,\n",
       " 0.0016074056524170433,\n",
       " -0.0029280647512658353,\n",
       " 0.0009331530925667381,\n",
       " -0.0014896756869740013,\n",
       " -0.0006633979897608666,\n",
       " -0.0008632083137859597,\n",
       " -0.001792311507554753,\n",
       " -0.000574106468343133,\n",
       " 0.0018073211403190764,\n",
       " -0.0008356303187069536,\n",
       " -0.0007601637258200095,\n",
       " -0.0005123508764536128,\n",
       " -0.001049258560337718,\n",
       " -0.0008977259404652355,\n",
       " -0.0024324583325771587,\n",
       " 0.0015387262035088112,\n",
       " -0.00022329284929283044,\n",
       " 0.000499594971891712,\n",
       " 0.0009127057767977648,\n",
       " 0.0010295437441314448,\n",
       " -0.0009047304231229597,\n",
       " -0.00032669674717168695,\n",
       " 0.0006645476393687538,\n",
       " -0.0017992721719304189,\n",
       " 0.001332398656122502,\n",
       " -0.00014768779063457915,\n",
       " -2.3670067514955373e-05,\n",
       " -0.0008907512542393192,\n",
       " 0.000155366932722667,\n",
       " -0.001289756693609409,\n",
       " 0.0011945735317848982,\n",
       " 0.0012909659360808845,\n",
       " 0.00048576478516708377,\n",
       " 0.0014426633126939092,\n",
       " 0.0017245748859630872,\n",
       " -0.0007117931269094158,\n",
       " -0.0021435773312758893,\n",
       " 0.0006165521249525963,\n",
       " 0.0014011832689076742,\n",
       " 0.0004929007226709692,\n",
       " -0.0006360864098367836,\n",
       " 0.0008849735413659077,\n",
       " 0.003879190824113088,\n",
       " -0.00019568681051330972,\n",
       " -0.00044355574728073555,\n",
       " 0.0004511735437739278,\n",
       " -0.0013036762696294474,\n",
       " -0.003216914203404017,\n",
       " 0.000843386580971453,\n",
       " 0.001841658235676294,\n",
       " -6.521671508991078e-05,\n",
       " -0.003031468649144664,\n",
       " -0.0004158971265627309,\n",
       " 8.653674892414309e-05,\n",
       " -0.0006703060721980486,\n",
       " 0.003142835631579341,\n",
       " 0.0008572448113966097,\n",
       " 0.0014080598021817686,\n",
       " -0.0007597150266117209,\n",
       " 0.0002791848444761019,\n",
       " 0.0014493400346018148,\n",
       " 0.0004305351802951912,\n",
       " 0.002468034466837646,\n",
       " 0.0011122426747428166,\n",
       " -0.0006500024803942489,\n",
       " 0.0008162047031622655,\n",
       " -0.0016545845361689848,\n",
       " -0.0002716266408464979,\n",
       " 0.0002863015019358983,\n",
       " -0.0003747465962575941,\n",
       " -0.0011731763777742404,\n",
       " 0.0002860350867809752,\n",
       " -0.0006705163999519426,\n",
       " -0.0005467528228682572,\n",
       " 0.0007265608827567716,\n",
       " 0.00025196966477254723,\n",
       " -0.0004639872884681512,\n",
       " 0.000492660598485295,\n",
       " 0.00043762028859191393,\n",
       " 0.0009741230915497889,\n",
       " 0.0030738301746525837,\n",
       " -0.0010285273021010122,\n",
       " -0.0007670875828387352,\n",
       " -0.00023003617498948414,\n",
       " 0.00246126835563433,\n",
       " 0.001373496604489155,\n",
       " 0.0008300506644684513,\n",
       " 0.002495228613765804,\n",
       " 0.002757104763117399,\n",
       " 0.000850504991162529,\n",
       " -0.0024395364299487354,\n",
       " 1.766274684356084e-05,\n",
       " 0.0019721686439191782,\n",
       " -0.0005192081296836182,\n",
       " -0.000532712308389735,\n",
       " 0.00019644209558267178,\n",
       " -0.00016137600612535496,\n",
       " -0.0014963874635075675,\n",
       " -0.0004917072547810236,\n",
       " 0.0009261643844905437,\n",
       " 0.0007680251519614489,\n",
       " -0.0007533169889776953,\n",
       " -0.0005537204981690413,\n",
       " 0.0013048381883563054,\n",
       " 0.0006855908837737068,\n",
       " -1.6721672258260267e-05,\n",
       " 0.0007539934011393384,\n",
       " -0.0009732521262157956,\n",
       " -0.0008912542881173713,\n",
       " 0.0032732881996899305,\n",
       " 0.001057384648902801,\n",
       " -0.0016409839572423257,\n",
       " 0.0007473867884827123,\n",
       " 0.0007061486216134588,\n",
       " 0.0010569955425581146,\n",
       " -0.0007737713156717868,\n",
       " 0.0003207893321833799,\n",
       " 0.0010915990530702274,\n",
       " -5.817717780653986e-05,\n",
       " 0.0021238081803998665,\n",
       " 0.00032735212655794765,\n",
       " 0.0005269486173665738,\n",
       " 0.0004790126958140184,\n",
       " 0.0004237392726600814,\n",
       " 0.0002104160062724597,\n",
       " -0.0023085668061098713,\n",
       " -0.0026457991262776176,\n",
       " 0.0003207227283946318,\n",
       " -0.0004915460035030544,\n",
       " 0.0009263712067818647,\n",
       " -0.0004846887502730629,\n",
       " 0.0005611542578776024,\n",
       " 0.0031288494517705823,\n",
       " -0.0016273483236900338,\n",
       " 0.0006235005202092775,\n",
       " -0.0009529450289494229,\n",
       " 0.0006991143425239404,\n",
       " -0.0005948289629234133,\n",
       " 0.0013528354555037425,\n",
       " 0.0011051891156091953,\n",
       " -0.0018404787896365987,\n",
       " -0.0018958626348613283,\n",
       " -8.550277958088714e-05,\n",
       " 0.0011535439399382313,\n",
       " -0.0006636924486163043,\n",
       " -2.3801522361130423e-05,\n",
       " 0.003596478252647861,\n",
       " -0.0021845420720651015,\n",
       " -0.002418799913518191,\n",
       " -0.002253889311591928,\n",
       " 0.0007196142402313699,\n",
       " 0.0005549875807728533,\n",
       " 0.0008436933089458754,\n",
       " 0.0015313974655638551,\n",
       " 0.0007333532849293223,\n",
       " -0.0004710951822715359,\n",
       " 0.0009535793755603011,\n",
       " -0.0005809865070798004,\n",
       " -0.001379200702648714,\n",
       " -0.0008357091916146586,\n",
       " -0.0008220455143618521,\n",
       " -0.0017579393575719165,\n",
       " 0.0009194438443005798,\n",
       " -0.0006567125041965355,\n",
       " -0.0001338295602094225,\n",
       " 0.0005614627385833043,\n",
       " -0.0005674104663911106,\n",
       " -0.0004019985833180889,\n",
       " -0.0022328863800064602,\n",
       " -0.0013862121962315704,\n",
       " -0.0009800778302827134,\n",
       " 0.0006990670187793091,\n",
       " 0.00102928433990164,\n",
       " 0.0005270029520363373,\n",
       " 0.000609672086215915,\n",
       " -0.0005879804733498195,\n",
       " -0.00021602019874890355,\n",
       " 0.0006991756881188221,\n",
       " -0.00011996431885913372,\n",
       " 0.0012498644822516447,\n",
       " -0.0016480340109133879,\n",
       " 0.001717649276213068,\n",
       " 0.0019380068216902219,\n",
       " 0.00039632778705289695,\n",
       " 0.0008984514291027895,\n",
       " -0.0007256618737222637,\n",
       " 0.0007334882452380564,\n",
       " 4.515135262717074e-05,\n",
       " 0.00028579846805784626,\n",
       " 0.001628058037746044,\n",
       " 0.0015387297089713703,\n",
       " -0.001055854656606653,\n",
       " 0.0006714469581495242,\n",
       " -0.003052063194341356,\n",
       " -0.0007600708310620402,\n",
       " -0.00027135496749773613,\n",
       " 0.00028622438175947285,\n",
       " 0.000671574907533154,\n",
       " 0.00173836475986823,\n",
       " 0.00242654215393244,\n",
       " 0.000678384837018528,\n",
       " -0.00027823500623440356,\n",
       " -0.0009254161103463138,\n",
       " 0.002013634665855135,\n",
       " -0.0007187660604040386,\n",
       " 0.0011947645794946615,\n",
       " 0.0006233340107374419,\n",
       " 0.0005817505558055602,\n",
       " -0.001902286963464575,\n",
       " 0.0019997641663110077,\n",
       " -0.0007190780465722996,\n",
       " 0.002068825710638808,\n",
       " -0.00012000112621607384,\n",
       " -0.0012553547471947646,\n",
       " 0.0007953227100352817,\n",
       " 0.0005751982778186976,\n",
       " 0.002330517823205744,\n",
       " -0.0004571387988945713,\n",
       " -0.0015723588430038432,\n",
       " -0.0007464036483466607,\n",
       " -0.0014415119103547286,\n",
       " 0.001531925037679835,\n",
       " -0.0024670127666133745,\n",
       " -0.00018176372903071225,\n",
       " 0.000836843066641002,\n",
       " -0.00030584630320777684,\n",
       " 0.001222107708581846,\n",
       " -0.0006637152341229802,\n",
       " 0.0015523372988231476,\n",
       " -0.0007258091031499825,\n",
       " -0.0015652860038261052,\n",
       " 0.0002722679983824944,\n",
       " 0.00040305183270544775,\n",
       " 0.0004790232122017096,\n",
       " 0.0009744859069252265,\n",
       " 0.00208274703939014,\n",
       " 0.0010571147282853188,\n",
       " -0.00043633042048144,\n",
       " 1.0912410221775026e-05,\n",
       " 0.00036192408790697295,\n",
       " -0.0003124651849833876,\n",
       " -0.0021913940671012683,\n",
       " 5.2048918676661504e-05,\n",
       " 0.0003619784225767225,\n",
       " 0.0005821904913574233,\n",
       " -0.001524065364269675,\n",
       " -0.000463819026265036,\n",
       " -0.0012968418019061179,\n",
       " -0.0008359054975182745,\n",
       " 0.00029305884948280236,\n",
       " 0.0003274274940030797,\n",
       " -0.0022537263075826652,\n",
       " 0.001201599047218005,\n",
       " 0.001360004694902009,\n",
       " 5.201035858845571e-05,\n",
       " 0.0008295949543350306,\n",
       " 0.0002792426846084245,\n",
       " -0.0025631773158426574,\n",
       " 0.00023832000936997721,\n",
       " 0.0002448898146696771,\n",
       " 0.0023305143177431847,\n",
       " -0.001592955140931801,\n",
       " 0.00021724346307065712,\n",
       " -0.0004709234146058616,\n",
       " -0.0022950153036591092,\n",
       " 0.0006302701368751523,\n",
       " -0.003347677004951574,\n",
       " 3.7975054932720687e-06,\n",
       " 0.0006438777267269297,\n",
       " 0.0006163575717802322,\n",
       " 2.454804377406694e-05,\n",
       " 0.0014353941676125415,\n",
       " 0.0011536526092777444,\n",
       " 0.0006852946721869896,\n",
       " 0.0014561464586246298,\n",
       " -0.0019507206607013439,\n",
       " 0.0014494925222233723,\n",
       " -9.926636251679499e-05,\n",
       " 0.0018005252326839666,\n",
       " 7.972681943875515e-05,\n",
       " 0.00104314432305809,\n",
       " -0.001813365268347425,\n",
       " -0.0003126036507546809,\n",
       " -0.00034697404800625165,\n",
       " -0.0009803880637196949,\n",
       " 0.0004511560164611045,\n",
       " 0.0019861460600715253,\n",
       " 0.00024478815625529615,\n",
       " 0.000719985819263233,\n",
       " -0.000718429535997836,\n",
       " 0.002908335913209298,\n",
       " 0.0014150169610948754,\n",
       " -0.0003677473717937224,\n",
       " 0.001235927378918797,\n",
       " 7.992663080495788e-05,\n",
       " 0.0005477517375858526,\n",
       " 0.0005132568964132528,\n",
       " 2.44761817915079e-05,\n",
       " -0.00034023773323473006,\n",
       " -0.001166394491989381,\n",
       " 0.0011603871713179725,\n",
       " -0.0019438458801585151,\n",
       " 0.0003826378188308416,\n",
       " 0.002123806427668587,\n",
       " 0.00023793265575658418,\n",
       " 0.0018141258116106118,\n",
       " -0.0010215964341571404,\n",
       " -0.0003950274025547318,\n",
       " -0.001021473742967377,\n",
       " 0.0014560132510471752,\n",
       " 0.0008297754856571166,\n",
       " -3.048700792546155e-05,\n",
       " -0.0014895389739339876,\n",
       " 0.00132557470478685,\n",
       " -0.0002435929356340849,\n",
       " 0.0009469009009211021,\n",
       " ...]"
      ]
     },
     "execution_count": 27,
     "metadata": {},
     "output_type": "execute_result"
    }
   ],
   "source": [
    "p_diffs = []\n",
    "for i in range(10000):\n",
    "    np_converted = np.random.choice(2, size=n_new, p = [1-convert_rate, convert_rate])\n",
    "    op_converted = np.random.choice(2, size=n_old, p = [1-convert_rate, convert_rate])\n",
    "    converted_diff = np_converted.mean() - op_converted.mean()\n",
    "    p_diffs.append(converted_diff)\n",
    "    \n",
    "p_diffs"
   ]
  },
  {
   "cell_type": "code",
   "execution_count": 28,
   "metadata": {},
   "outputs": [],
   "source": [
    "p_diffs_array = np.array(p_diffs)"
   ]
  },
  {
   "cell_type": "markdown",
   "metadata": {},
   "source": [
    "i. Histogram of the **p_diffs**."
   ]
  },
  {
   "cell_type": "code",
   "execution_count": 29,
   "metadata": {},
   "outputs": [
    {
     "data": {
      "image/png": "[encoded data removed]",
      "text/plain": [
       "<Figure size 432x288 with 1 Axes>"
      ]
     },
     "metadata": {},
     "output_type": "display_data"
    }
   ],
   "source": [
    "plt.hist(p_diffs);"
   ]
  },
  {
   "cell_type": "markdown",
   "metadata": {},
   "source": [
    "j. Proportion: **p_diffs** are greater than the actual difference observed in **ab_data.csv**"
   ]
  },
  {
   "cell_type": "code",
   "execution_count": 30,
   "metadata": {},
   "outputs": [],
   "source": [
    "actual_diff = df2.query('landing_page==\"new_page\"')['converted'].mean()-df2.query('landing_page==\"old_page\"')['converted'].mean()"
   ]
  },
  {
   "cell_type": "code",
   "execution_count": 31,
   "metadata": {},
   "outputs": [
    {
     "data": {
      "text/plain": [
       "0.9012"
      ]
     },
     "execution_count": 31,
     "metadata": {},
     "output_type": "execute_result"
    }
   ],
   "source": [
    "(p_diffs_array > actual_diff).mean()"
   ]
  },
  {
   "cell_type": "code",
   "execution_count": 32,
   "metadata": {},
   "outputs": [
    {
     "data": {
      "image/png": "[encoded data removed]",
      "text/plain": [
       "<Figure size 432x288 with 1 Axes>"
      ]
     },
     "metadata": {},
     "output_type": "display_data"
    }
   ],
   "source": [
    "plt.hist(p_diffs)\n",
    "plt.axvline(actual_diff, color = 'orange');"
   ]
  },
  {
   "cell_type": "markdown",
   "metadata": {},
   "source": [
    "**k. The result we get in step j is the p-value. Since it is much larger than 0.05, we consider that with a confidence level of 95%, the conversion rate of new and old pages is not significantly different.**"
   ]
  },
  {
   "cell_type": "markdown",
   "metadata": {},
   "source": [
    "l. Another method using built-in to achieve the same goal."
   ]
  },
  {
   "cell_type": "code",
   "execution_count": 33,
   "metadata": {},
   "outputs": [],
   "source": [
    "import statsmodels.api as sm\n",
    "\n",
    "convert_old = df2.query('landing_page==\"old_page\"')['converted'].sum()\n",
    "convert_new = df2.query('landing_page==\"new_page\"')['converted'].sum()\n",
    "n_old = df2.query('landing_page==\"old_page\"').count()[0]\n",
    "n_new = df2.query('landing_page==\"new_page\"').count()[0]"
   ]
  },
  {
   "cell_type": "markdown",
   "metadata": {},
   "source": [
    "m. Use `stats.proportions_ztest` to compute the test statistic and p-value."
   ]
  },
  {
   "cell_type": "code",
   "execution_count": 34,
   "metadata": {},
   "outputs": [],
   "source": [
    "z_score, p_value = sm.stats.proportions_ztest([convert_new, convert_old], [n_new, n_old], alternative = 'larger')"
   ]
  },
  {
   "cell_type": "code",
   "execution_count": 35,
   "metadata": {},
   "outputs": [
    {
     "data": {
      "text/plain": [
       "(-1.3116075339133115, 0.905173705140591)"
      ]
     },
     "execution_count": 35,
     "metadata": {},
     "output_type": "execute_result"
    }
   ],
   "source": [
    "z_score, p_value"
   ]
  },
  {
   "cell_type": "markdown",
   "metadata": {},
   "source": [
    "**n. According to the above z-score and p-value, since the p-value is much higher than 0.05, we fail to reject the null hypothesis. This is the same as what we get through a to k**"
   ]
  },
  {
   "cell_type": "markdown",
   "metadata": {},
   "source": [
    "<a id='regression'></a>\n",
    "### Part III - Regression approach\n",
    "\n",
    "`1.` The result acheived in the previous A/B test can also be acheived by performing regression.<br><br>\n",
    "\n",
    "a. Since each row is either a conversion or no conversion, we should perform logistic regression in this case."
   ]
  },
  {
   "cell_type": "markdown",
   "metadata": {},
   "source": [
    "b. The goal is to use **statsmodels** to fit the regression model specified in part **a.** to see if there is a significant difference in conversion based on which page a customer receives.  However, we first need to create a column for the intercept, and create a dummy variable column for which page each user received."
   ]
  },
  {
   "cell_type": "code",
   "execution_count": 36,
   "metadata": {},
   "outputs": [
    {
     "name": "stderr",
     "output_type": "stream",
     "text": [
      "C:\\Users\\MaiRZ\\Anaconda3\\lib\\site-packages\\ipykernel_launcher.py:1: SettingWithCopyWarning: \n",
      "A value is trying to be set on a copy of a slice from a DataFrame.\n",
      "Try using .loc[row_indexer,col_indexer] = value instead\n",
      "\n",
      "See the caveats in the documentation: http://pandas.pydata.org/pandas-docs/stable/indexing.html#indexing-view-versus-copy\n",
      "  \"\"\"Entry point for launching an IPython kernel.\n",
      "C:\\Users\\MaiRZ\\Anaconda3\\lib\\site-packages\\pandas\\core\\frame.py:3140: SettingWithCopyWarning: \n",
      "A value is trying to be set on a copy of a slice from a DataFrame.\n",
      "Try using .loc[row_indexer,col_indexer] = value instead\n",
      "\n",
      "See the caveats in the documentation: http://pandas.pydata.org/pandas-docs/stable/indexing.html#indexing-view-versus-copy\n",
      "  self[k1] = value[k2]\n"
     ]
    }
   ],
   "source": [
    "df2['intercept']=1\n",
    "df2[['control', 'treatment']] = pd.get_dummies(df['group'])"
   ]
  },
  {
   "cell_type": "code",
   "execution_count": 37,
   "metadata": {},
   "outputs": [
    {
     "name": "stderr",
     "output_type": "stream",
     "text": [
      "C:\\Users\\MaiRZ\\Anaconda3\\lib\\site-packages\\pandas\\core\\frame.py:3697: SettingWithCopyWarning: \n",
      "A value is trying to be set on a copy of a slice from a DataFrame\n",
      "\n",
      "See the caveats in the documentation: http://pandas.pydata.org/pandas-docs/stable/indexing.html#indexing-view-versus-copy\n",
      "  errors=errors)\n"
     ]
    }
   ],
   "source": [
    "df2.drop(['control'], axis = 1, inplace = True)"
   ]
  },
  {
   "cell_type": "code",
   "execution_count": 38,
   "metadata": {},
   "outputs": [
    {
     "name": "stderr",
     "output_type": "stream",
     "text": [
      "C:\\Users\\MaiRZ\\Anaconda3\\lib\\site-packages\\pandas\\core\\frame.py:3781: SettingWithCopyWarning: \n",
      "A value is trying to be set on a copy of a slice from a DataFrame\n",
      "\n",
      "See the caveats in the documentation: http://pandas.pydata.org/pandas-docs/stable/indexing.html#indexing-view-versus-copy\n",
      "  return super(DataFrame, self).rename(**kwargs)\n"
     ]
    }
   ],
   "source": [
    "df2.rename(columns = {'treatment': 'ab_page'}, inplace = True)"
   ]
  },
  {
   "cell_type": "markdown",
   "metadata": {},
   "source": [
    "c. Use **statsmodels** to import the regression model. Instantiate the model, and fit the model using the two columns created in part **b.** to predict whether or not an individual converts."
   ]
  },
  {
   "cell_type": "code",
   "execution_count": 39,
   "metadata": {},
   "outputs": [
    {
     "name": "stdout",
     "output_type": "stream",
     "text": [
      "Optimization terminated successfully.\n",
      "         Current function value: 0.366118\n",
      "         Iterations 6\n"
     ]
    }
   ],
   "source": [
    "mod = sm.Logit(df2['converted'], df2[['intercept', 'ab_page']])\n",
    "result = mod.fit()\n",
    "summary = result.summary()"
   ]
  },
  {
   "cell_type": "markdown",
   "metadata": {},
   "source": [
    "d. The summary of your model is shown below"
   ]
  },
  {
   "cell_type": "code",
   "execution_count": 40,
   "metadata": {},
   "outputs": [
    {
     "name": "stdout",
     "output_type": "stream",
     "text": [
      "                           Logit Regression Results                           \n",
      "==============================================================================\n",
      "Dep. Variable:              converted   No. Observations:               290585\n",
      "Model:                          Logit   Df Residuals:                   290583\n",
      "Method:                           MLE   Df Model:                            1\n",
      "Date:                Sat, 18 Aug 2018   Pseudo R-squ.:               8.085e-06\n",
      "Time:                        23:12:25   Log-Likelihood:            -1.0639e+05\n",
      "converged:                       True   LL-Null:                   -1.0639e+05\n",
      "                                        LLR p-value:                    0.1897\n",
      "==============================================================================\n",
      "                 coef    std err          z      P>|z|      [0.025      0.975]\n",
      "------------------------------------------------------------------------------\n",
      "intercept     -1.9888      0.008   -246.669      0.000      -2.005      -1.973\n",
      "ab_page       -0.0150      0.011     -1.312      0.190      -0.037       0.007\n",
      "==============================================================================\n"
     ]
    }
   ],
   "source": [
    "print(summary)"
   ]
  },
  {
   "cell_type": "markdown",
   "metadata": {},
   "source": [
    "e. Comparison with **Part II**\n",
    "\n",
    "The relevant p-value is 0.190. The reason why it is different from the one in part II is that we use a two tailed test instead of one tailed test here. Since the alternative hypothesis is **$p_{new}$** > **$p_{old}$**, actually two tailed test is not appropriate"
   ]
  },
  {
   "cell_type": "markdown",
   "metadata": {},
   "source": [
    "f. Add an additional effect based on which country a user lives"
   ]
  },
  {
   "cell_type": "code",
   "execution_count": 41,
   "metadata": {},
   "outputs": [],
   "source": [
    "df3 = pd.read_csv('countries.csv')"
   ]
  },
  {
   "cell_type": "code",
   "execution_count": 42,
   "metadata": {},
   "outputs": [
    {
     "data": {
      "text/html": [
       "<div>\n",
       "<style scoped>\n",
       "    .dataframe tbody tr th:only-of-type {\n",
       "        vertical-align: middle;\n",
       "    }\n",
       "\n",
       "    .dataframe tbody tr th {\n",
       "        vertical-align: top;\n",
       "    }\n",
       "\n",
       "    .dataframe thead th {\n",
       "        text-align: right;\n",
       "    }\n",
       "</style>\n",
       "<table border=\"1\" class=\"dataframe\">\n",
       "  <thead>\n",
       "    <tr style=\"text-align: right;\">\n",
       "      <th></th>\n",
       "      <th>user_id</th>\n",
       "      <th>country</th>\n",
       "    </tr>\n",
       "  </thead>\n",
       "  <tbody>\n",
       "    <tr>\n",
       "      <th>0</th>\n",
       "      <td>834778</td>\n",
       "      <td>UK</td>\n",
       "    </tr>\n",
       "    <tr>\n",
       "      <th>1</th>\n",
       "      <td>928468</td>\n",
       "      <td>US</td>\n",
       "    </tr>\n",
       "    <tr>\n",
       "      <th>2</th>\n",
       "      <td>822059</td>\n",
       "      <td>UK</td>\n",
       "    </tr>\n",
       "    <tr>\n",
       "      <th>3</th>\n",
       "      <td>711597</td>\n",
       "      <td>UK</td>\n",
       "    </tr>\n",
       "    <tr>\n",
       "      <th>4</th>\n",
       "      <td>710616</td>\n",
       "      <td>UK</td>\n",
       "    </tr>\n",
       "  </tbody>\n",
       "</table>\n",
       "</div>"
      ],
      "text/plain": [
       "   user_id country\n",
       "0   834778      UK\n",
       "1   928468      US\n",
       "2   822059      UK\n",
       "3   711597      UK\n",
       "4   710616      UK"
      ]
     },
     "execution_count": 42,
     "metadata": {},
     "output_type": "execute_result"
    }
   ],
   "source": [
    "df3.head()"
   ]
  },
  {
   "cell_type": "code",
   "execution_count": 43,
   "metadata": {},
   "outputs": [
    {
     "data": {
      "text/plain": [
       "(290584, 2)"
      ]
     },
     "execution_count": 43,
     "metadata": {},
     "output_type": "execute_result"
    }
   ],
   "source": [
    "df3.shape"
   ]
  },
  {
   "cell_type": "code",
   "execution_count": 44,
   "metadata": {},
   "outputs": [
    {
     "data": {
      "text/plain": [
       "US    203619\n",
       "UK     72466\n",
       "CA     14499\n",
       "Name: country, dtype: int64"
      ]
     },
     "execution_count": 44,
     "metadata": {},
     "output_type": "execute_result"
    }
   ],
   "source": [
    "df3['country'].value_counts()"
   ]
  },
  {
   "cell_type": "code",
   "execution_count": 45,
   "metadata": {},
   "outputs": [],
   "source": [
    "df_new = df3.set_index('user_id').join(df2.set_index('user_id'), how='inner')"
   ]
  },
  {
   "cell_type": "code",
   "execution_count": 46,
   "metadata": {},
   "outputs": [
    {
     "data": {
      "text/html": [
       "<div>\n",
       "<style scoped>\n",
       "    .dataframe tbody tr th:only-of-type {\n",
       "        vertical-align: middle;\n",
       "    }\n",
       "\n",
       "    .dataframe tbody tr th {\n",
       "        vertical-align: top;\n",
       "    }\n",
       "\n",
       "    .dataframe thead th {\n",
       "        text-align: right;\n",
       "    }\n",
       "</style>\n",
       "<table border=\"1\" class=\"dataframe\">\n",
       "  <thead>\n",
       "    <tr style=\"text-align: right;\">\n",
       "      <th></th>\n",
       "      <th>country</th>\n",
       "      <th>timestamp</th>\n",
       "      <th>group</th>\n",
       "      <th>landing_page</th>\n",
       "      <th>converted</th>\n",
       "      <th>intercept</th>\n",
       "      <th>ab_page</th>\n",
       "    </tr>\n",
       "    <tr>\n",
       "      <th>user_id</th>\n",
       "      <th></th>\n",
       "      <th></th>\n",
       "      <th></th>\n",
       "      <th></th>\n",
       "      <th></th>\n",
       "      <th></th>\n",
       "      <th></th>\n",
       "    </tr>\n",
       "  </thead>\n",
       "  <tbody>\n",
       "    <tr>\n",
       "      <th>630000</th>\n",
       "      <td>US</td>\n",
       "      <td>2017-01-19 06:26:06.548941</td>\n",
       "      <td>treatment</td>\n",
       "      <td>new_page</td>\n",
       "      <td>0</td>\n",
       "      <td>1</td>\n",
       "      <td>1</td>\n",
       "    </tr>\n",
       "    <tr>\n",
       "      <th>630001</th>\n",
       "      <td>US</td>\n",
       "      <td>2017-01-16 03:16:42.560309</td>\n",
       "      <td>treatment</td>\n",
       "      <td>new_page</td>\n",
       "      <td>1</td>\n",
       "      <td>1</td>\n",
       "      <td>1</td>\n",
       "    </tr>\n",
       "    <tr>\n",
       "      <th>630002</th>\n",
       "      <td>US</td>\n",
       "      <td>2017-01-19 19:20:56.438330</td>\n",
       "      <td>control</td>\n",
       "      <td>old_page</td>\n",
       "      <td>0</td>\n",
       "      <td>1</td>\n",
       "      <td>0</td>\n",
       "    </tr>\n",
       "    <tr>\n",
       "      <th>630003</th>\n",
       "      <td>US</td>\n",
       "      <td>2017-01-12 10:09:31.510471</td>\n",
       "      <td>treatment</td>\n",
       "      <td>new_page</td>\n",
       "      <td>0</td>\n",
       "      <td>1</td>\n",
       "      <td>1</td>\n",
       "    </tr>\n",
       "    <tr>\n",
       "      <th>630004</th>\n",
       "      <td>US</td>\n",
       "      <td>2017-01-18 20:23:58.824994</td>\n",
       "      <td>treatment</td>\n",
       "      <td>new_page</td>\n",
       "      <td>0</td>\n",
       "      <td>1</td>\n",
       "      <td>1</td>\n",
       "    </tr>\n",
       "  </tbody>\n",
       "</table>\n",
       "</div>"
      ],
      "text/plain": [
       "        country                   timestamp      group landing_page  \\\n",
       "user_id                                                               \n",
       "630000       US  2017-01-19 06:26:06.548941  treatment     new_page   \n",
       "630001       US  2017-01-16 03:16:42.560309  treatment     new_page   \n",
       "630002       US  2017-01-19 19:20:56.438330    control     old_page   \n",
       "630003       US  2017-01-12 10:09:31.510471  treatment     new_page   \n",
       "630004       US  2017-01-18 20:23:58.824994  treatment     new_page   \n",
       "\n",
       "         converted  intercept  ab_page  \n",
       "user_id                                 \n",
       "630000           0          1        1  \n",
       "630001           1          1        1  \n",
       "630002           0          1        0  \n",
       "630003           0          1        1  \n",
       "630004           0          1        1  "
      ]
     },
     "execution_count": 46,
     "metadata": {},
     "output_type": "execute_result"
    }
   ],
   "source": [
    "df_new.head()"
   ]
  },
  {
   "cell_type": "code",
   "execution_count": 47,
   "metadata": {},
   "outputs": [],
   "source": [
    "df_new[['CA','UK','US']] = pd.get_dummies(df_new['country'])"
   ]
  },
  {
   "cell_type": "code",
   "execution_count": 48,
   "metadata": {},
   "outputs": [
    {
     "name": "stdout",
     "output_type": "stream",
     "text": [
      "Optimization terminated successfully.\n",
      "         Current function value: 0.366115\n",
      "         Iterations 6\n",
      "                           Logit Regression Results                           \n",
      "==============================================================================\n",
      "Dep. Variable:              converted   No. Observations:               290585\n",
      "Model:                          Logit   Df Residuals:                   290582\n",
      "Method:                           MLE   Df Model:                            2\n",
      "Date:                Sat, 18 Aug 2018   Pseudo R-squ.:               1.521e-05\n",
      "Time:                        23:12:46   Log-Likelihood:            -1.0639e+05\n",
      "converged:                       True   LL-Null:                   -1.0639e+05\n",
      "                                        LLR p-value:                    0.1983\n",
      "==============================================================================\n",
      "                 coef    std err          z      P>|z|      [0.025      0.975]\n",
      "------------------------------------------------------------------------------\n",
      "intercept     -1.9967      0.007   -292.315      0.000      -2.010      -1.983\n",
      "CA            -0.0408      0.027     -1.518      0.129      -0.093       0.012\n",
      "UK             0.0099      0.013      0.746      0.456      -0.016       0.036\n",
      "==============================================================================\n"
     ]
    }
   ],
   "source": [
    "mod2 = sm.Logit(df_new['converted'], df_new[['intercept', 'CA', 'UK']])\n",
    "result2 = mod2.fit()\n",
    "summary2 = result2.summary()\n",
    "print(summary2)"
   ]
  },
  {
   "cell_type": "markdown",
   "metadata": {},
   "source": [
    "> Since the p-value of CA and UK is 0.129 and 0.456, respectively, we can conclude that the country variable is not significant."
   ]
  },
  {
   "cell_type": "markdown",
   "metadata": {},
   "source": [
    "h. Interaction between page and country"
   ]
  },
  {
   "cell_type": "code",
   "execution_count": 49,
   "metadata": {},
   "outputs": [
    {
     "data": {
      "text/html": [
       "<div>\n",
       "<style scoped>\n",
       "    .dataframe tbody tr th:only-of-type {\n",
       "        vertical-align: middle;\n",
       "    }\n",
       "\n",
       "    .dataframe tbody tr th {\n",
       "        vertical-align: top;\n",
       "    }\n",
       "\n",
       "    .dataframe thead th {\n",
       "        text-align: right;\n",
       "    }\n",
       "</style>\n",
       "<table border=\"1\" class=\"dataframe\">\n",
       "  <thead>\n",
       "    <tr style=\"text-align: right;\">\n",
       "      <th></th>\n",
       "      <th>country</th>\n",
       "      <th>timestamp</th>\n",
       "      <th>group</th>\n",
       "      <th>landing_page</th>\n",
       "      <th>converted</th>\n",
       "      <th>intercept</th>\n",
       "      <th>ab_page</th>\n",
       "      <th>CA</th>\n",
       "      <th>UK</th>\n",
       "      <th>US</th>\n",
       "      <th>new_CA</th>\n",
       "      <th>new_UK</th>\n",
       "    </tr>\n",
       "    <tr>\n",
       "      <th>user_id</th>\n",
       "      <th></th>\n",
       "      <th></th>\n",
       "      <th></th>\n",
       "      <th></th>\n",
       "      <th></th>\n",
       "      <th></th>\n",
       "      <th></th>\n",
       "      <th></th>\n",
       "      <th></th>\n",
       "      <th></th>\n",
       "      <th></th>\n",
       "      <th></th>\n",
       "    </tr>\n",
       "  </thead>\n",
       "  <tbody>\n",
       "    <tr>\n",
       "      <th>945994</th>\n",
       "      <td>UK</td>\n",
       "      <td>2017-01-03 14:41:21.565258</td>\n",
       "      <td>control</td>\n",
       "      <td>old_page</td>\n",
       "      <td>0</td>\n",
       "      <td>1</td>\n",
       "      <td>0</td>\n",
       "      <td>0</td>\n",
       "      <td>1</td>\n",
       "      <td>0</td>\n",
       "      <td>0</td>\n",
       "      <td>0</td>\n",
       "    </tr>\n",
       "    <tr>\n",
       "      <th>945996</th>\n",
       "      <td>US</td>\n",
       "      <td>2017-01-09 18:58:19.952277</td>\n",
       "      <td>treatment</td>\n",
       "      <td>new_page</td>\n",
       "      <td>0</td>\n",
       "      <td>1</td>\n",
       "      <td>1</td>\n",
       "      <td>0</td>\n",
       "      <td>0</td>\n",
       "      <td>1</td>\n",
       "      <td>0</td>\n",
       "      <td>0</td>\n",
       "    </tr>\n",
       "    <tr>\n",
       "      <th>945997</th>\n",
       "      <td>US</td>\n",
       "      <td>2017-01-04 06:56:24.658147</td>\n",
       "      <td>control</td>\n",
       "      <td>old_page</td>\n",
       "      <td>0</td>\n",
       "      <td>1</td>\n",
       "      <td>0</td>\n",
       "      <td>0</td>\n",
       "      <td>0</td>\n",
       "      <td>1</td>\n",
       "      <td>0</td>\n",
       "      <td>0</td>\n",
       "    </tr>\n",
       "    <tr>\n",
       "      <th>945998</th>\n",
       "      <td>CA</td>\n",
       "      <td>2017-01-16 07:08:02.207969</td>\n",
       "      <td>control</td>\n",
       "      <td>old_page</td>\n",
       "      <td>0</td>\n",
       "      <td>1</td>\n",
       "      <td>0</td>\n",
       "      <td>1</td>\n",
       "      <td>0</td>\n",
       "      <td>0</td>\n",
       "      <td>0</td>\n",
       "      <td>0</td>\n",
       "    </tr>\n",
       "    <tr>\n",
       "      <th>945999</th>\n",
       "      <td>US</td>\n",
       "      <td>2017-01-16 04:56:21.132067</td>\n",
       "      <td>treatment</td>\n",
       "      <td>new_page</td>\n",
       "      <td>0</td>\n",
       "      <td>1</td>\n",
       "      <td>1</td>\n",
       "      <td>0</td>\n",
       "      <td>0</td>\n",
       "      <td>1</td>\n",
       "      <td>0</td>\n",
       "      <td>0</td>\n",
       "    </tr>\n",
       "  </tbody>\n",
       "</table>\n",
       "</div>"
      ],
      "text/plain": [
       "        country                   timestamp      group landing_page  \\\n",
       "user_id                                                               \n",
       "945994       UK  2017-01-03 14:41:21.565258    control     old_page   \n",
       "945996       US  2017-01-09 18:58:19.952277  treatment     new_page   \n",
       "945997       US  2017-01-04 06:56:24.658147    control     old_page   \n",
       "945998       CA  2017-01-16 07:08:02.207969    control     old_page   \n",
       "945999       US  2017-01-16 04:56:21.132067  treatment     new_page   \n",
       "\n",
       "         converted  intercept  ab_page  CA  UK  US  new_CA  new_UK  \n",
       "user_id                                                             \n",
       "945994           0          1        0   0   1   0       0       0  \n",
       "945996           0          1        1   0   0   1       0       0  \n",
       "945997           0          1        0   0   0   1       0       0  \n",
       "945998           0          1        0   1   0   0       0       0  \n",
       "945999           0          1        1   0   0   1       0       0  "
      ]
     },
     "execution_count": 49,
     "metadata": {},
     "output_type": "execute_result"
    }
   ],
   "source": [
    "df_new['new_CA'] = df_new['ab_page'] * df_new['CA']\n",
    "df_new['new_UK'] = df_new['ab_page'] * df_new['UK']\n",
    "\n",
    "df_new.tail()"
   ]
  },
  {
   "cell_type": "code",
   "execution_count": 50,
   "metadata": {},
   "outputs": [
    {
     "name": "stdout",
     "output_type": "stream",
     "text": [
      "Optimization terminated successfully.\n",
      "         Current function value: 0.366108\n",
      "         Iterations 6\n",
      "                           Logit Regression Results                           \n",
      "==============================================================================\n",
      "Dep. Variable:              converted   No. Observations:               290585\n",
      "Model:                          Logit   Df Residuals:                   290579\n",
      "Method:                           MLE   Df Model:                            5\n",
      "Date:                Sat, 18 Aug 2018   Pseudo R-squ.:               3.483e-05\n",
      "Time:                        23:12:51   Log-Likelihood:            -1.0639e+05\n",
      "converged:                       True   LL-Null:                   -1.0639e+05\n",
      "                                        LLR p-value:                    0.1918\n",
      "==============================================================================\n",
      "                 coef    std err          z      P>|z|      [0.025      0.975]\n",
      "------------------------------------------------------------------------------\n",
      "intercept     -1.9865      0.010   -206.344      0.000      -2.005      -1.968\n",
      "CA            -0.0175      0.038     -0.465      0.642      -0.091       0.056\n",
      "UK            -0.0057      0.019     -0.306      0.760      -0.043       0.031\n",
      "new_CA        -0.0469      0.054     -0.872      0.383      -0.152       0.059\n",
      "new_UK         0.0314      0.027      1.181      0.238      -0.021       0.084\n",
      "ab_page       -0.0206      0.014     -1.506      0.132      -0.047       0.006\n",
      "==============================================================================\n"
     ]
    }
   ],
   "source": [
    "mod3 = sm.Logit(df_new['converted'], df_new[['intercept', 'CA', 'UK', 'new_CA', 'new_UK', 'ab_page']])\n",
    "result3 = mod3.fit()\n",
    "summary3 = result3.summary()\n",
    "print(summary3)"
   ]
  },
  {
   "cell_type": "markdown",
   "metadata": {},
   "source": [
    "> Except the intercept, the p-values for all variables are 0.05, so we consider that after introducing the interaction, all the independent variables are still insignificant."
   ]
  }
 ],
 "metadata": {
  "kernelspec": {
   "display_name": "Python 3",
   "language": "python",
   "name": "python3"
  },
  "language_info": {
   "codemirror_mode": {
    "name": "ipython",
    "version": 3
   },
   "file_extension": ".py",
   "mimetype": "text/x-python",
   "name": "python",
   "nbconvert_exporter": "python",
   "pygments_lexer": "ipython3",
   "version": "3.6.6"
  }
 },
 "nbformat": 4,
 "nbformat_minor": 2
}
